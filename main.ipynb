{
 "cells": [
  {
   "cell_type": "markdown",
   "id": "ee9190f5b04a81aa",
   "metadata": {},
   "source": [
    "# Predicting FOMC Impact on Market\n",
    "\n",
    "The Federal Opem Market Committee"
   ]
  },
  {
   "metadata": {},
   "cell_type": "markdown",
   "source": [
    "# Project Statement\n",
    "## Analyzing the Impact of Federal Reserve Announcement on Major Economic Indicators\n",
    "In the financial markets, Federal Reserve announcements are highly anticipated events. These announcements have the power to influence investors and to trigger shifts in economic indicators. The major indicators involved are the S&P 500, Dow Jones industrial average, and the NASDAQ composite. However, this impact has been traditionally vague, and it is important to understand the specific nuances of these impacts. This is especially important when monitoring the real-time impact of these announcements. Even with the availability of text from these announcements and with financial indicators it remains an overly complex and challenging task to draw on these correlations. The goal of our project is to bridge this gap by creating a comprehensive analytical tool that will leverage natural language processing and predictive modeling techniques. This will allow us to quantify the effects of these Federal Reserve communications on the financial markets.\n",
    " \n",
    "At the core of this analysis is the idea that specific language used in these Federal Reserve announcements will give critical information to the market that may shape perceptions and reactions. Language used in these announcements include the Beige Book, FOMC meeting notes, and other policy documents. By applying this advanced text analysis method, we aim to label market increases and decreases. We seek to accomplish this by extracting sentiment scores and thematic elements from these announcements. This insight will then be integrated with financial development data to develop predictive models that are capable of forecasting market movements in response to these announcements.\n",
    " \n",
    "This project is designed to serve a broad audience that will include investors, policymakers, and financial analysts. We seek to provide a tool that offers deeper insights into the economic impact of these Federal Reserve decisions. To accomplish this, we seek to transfer complex financial and linguistic data into actionable predictions. As a result, our goal is to empower stakeholders to make informed decisions in a volatile market environment that is fueled by the sentiment of these Federal Reserve announcements.\n",
    " \n",
    "In summary, our project addresses the need to improve the nuanced understanding of the relationship between Federal Reserve announcements and market behavior. By offering this data-driven approach to predict and interpret the economic impact of these announcements we can provide a valuable tool to analysts that are observing this related market activity.\n",
    "\n",
    "\n",
    "# Methodology\n",
    "your report explains how you attempted to solve the problem and justifies your methodological approach.\n",
    "# Evaluation Strategy\n",
    " your report defines what a successful outcome would be and includes a critical evaluation of your work following an appropriate strategy.\n",
    "# Broader Impacts\n",
    "Our project aims to predict the impact of Federal Reserve announcements on major economic indicators. This project holds significant implications for a wide range of stakeholders. Several individuals stand to benefit from this analytical tool including investors, policymakers, financial analysts, and economist. By utilizing this tool these stakeholders are able to anticipate market reactions to Federal Reserve communications. We seek to empower these groups to make informed decisions that will lead to profitable investments and more stable and predictable financial markets. As these stakeholders utilize this predictive capability it will help in risk management. As a result, investors are able to better hedge against potential market downturns or to profit from expected upswings.\n",
    " \n",
    "Our analysis offers value to these policymakers by providing feedback on how their Federal Reserve communications are interpreted by the market. This could lead to a more effective and transparent monetary policy coming from the Federal Reserve. As these policymakers understand the nuances of how the market will react it can impact the specific language that is used and these announcements. This will also guide future communication strategies and enable a clearer and more predictable standard of guidance for these economic indicators.\n",
    " \n",
    "However, this project also raises important ethical considerations. One concern is over the potential misuse of the predictive models that we develop. For example, if this tool was used by a select group of individuals or institutions this could exasperate existing inequalities in the financial markets. This is particularly true if such individuals or institutions have substantial financial resources to move these financial markets. This ability to predict market movements based on the federal reserve's announcement could lead to an unfair advantage for these individuals. Those with access to this advanced predictive tool may exploit these insights at the expense of their less informed counterparts.\n",
    " \n",
    "Additionally, there is also an ethical question of transparency. The Federal Reserve seeks to manage the economy in a way that benefits the broader public. Their communications are intended to be openly interpreted. If predictive models like ours become widely used this may create pressure for the Federal Reserve to selectively alter the way that they communicate. This could lead to less transparency and more strategic messaging on the part of the Federal Reserve. In conclusion, our project offers substantial benefits. This includes enhancing decision-making processes for investors and policymakers. This tool also requires careful consideration of its broader impact. This will ensure that the tool we developed is used ethically and will not contribute to greater market inequalities.\n",
    "\n",
    "\n",
    "# Visuals\n",
    "your report includes at least 3 original, legible, data visualizations. Visuals are explained and integrated in the body of the report.\n",
    "\n",
    "# Context\n",
    "Our project will build upon an extensive body of existing research and methodologies that have explored the relationship between Federal Reserve announcements and financial market reactions. There have been several key studies in sources that have informed our approach. These have provided both theoretical foundations and practical insights.\n",
    " \n",
    "The first study is Niemira and Klein’s (1994) Work on the Beige Book as a forecasting tool. This work underscored the significance of Federal Reserve communications in influencing market behavior. Their research highlighted how qualitative information such as that found in the Beige Book can provide early signals of economic trends. This was later reflected in they are analysis of quantitative data. The study gave us insight into the use of natural language processing to extract sentiment and key insights from these Federal Reserve documents.\n",
    "\n",
    " The second work is Bernanke and Kuttner’s (2005) seminole paper on the stock markets response to Federal Reserve policy actions. This study was crucial to our understanding of the mechanisms through which monetary policy can impact financial markets. Their findings on the sensitivity of stock prices to unexpected changes in the federal funds rate helped to shape our predictive modeling efforts. We were particularly interested in assessing the immediate impact of reactions to FOMC announcements.\n",
    " \n",
    "Finally, the blog post by D’Amico and King (2021) On the federal reserve's communication strategies gave a contemporary perspective on how language used by the Fed can shape market expectations and behaviors. Their analysis on this topic gave great insight into the feds evolving communication style. This was especially true during times of economic uncertainty. This aligned with our focus on text and sentiment analysis to capture market sentiment and response to different types of announcements.\n",
    " \n",
    "These references gave great aid along with others that were integrated into our research. These studies provide us with a great foundation and a necessary context for our project. They established the relevance of analyzing Federal Reserve announcements and validated the use of such tools as natural language processing for sentiment analysis. These tools also highlighted the importance of predictive modeling to deepen our understanding of their impact on the financial markets. And R report all references are formatted in APA style to ensure consistency and clarity in citation.\n",
    " \n"
   ],
   "id": "28e82bad18a4d2e0"
  },
  {
   "cell_type": "markdown",
   "id": "dde2bb24a7fdba4",
   "metadata": {},
   "source": [
    "![Bert_regressor_sin_bert](Data/Models/Second/bert_regressor_sin_bert.png \"Bert Regressor w/o Bert\")\n",
    "\n"
   ]
  },
  {
   "cell_type": "markdown",
   "id": "593b135f40404875",
   "metadata": {},
   "source": []
  },
  {
   "cell_type": "markdown",
   "id": "3d46a2d436532100",
   "metadata": {},
   "source": []
  },
  {
   "cell_type": "code",
   "id": "e48b357766767568",
   "metadata": {
    "ExecuteTime": {
     "end_time": "2024-08-04T14:09:15.292504Z",
     "start_time": "2024-08-04T14:09:15.264415Z"
    }
   },
   "source": [
    "from IPython.display import IFrame\n",
    "file_path = 'Data/Viz/sp500_fomc_bb_viz.html'\n",
    "IFrame(file_path, width='100%', height=600)"
   ],
   "outputs": [
    {
     "data": {
      "text/plain": [
       "<IPython.lib.display.IFrame at 0x13425ab50>"
      ],
      "text/html": [
       "\n",
       "        <iframe\n",
       "            width=\"100%\"\n",
       "            height=\"500\"\n",
       "            src=\"Data/Viz/sp500_fomc_bb_viz.html\"\n",
       "            frameborder=\"0\"\n",
       "            allowfullscreen\n",
       "            \n",
       "        ></iframe>\n",
       "        "
      ]
     },
     "execution_count": 11,
     "metadata": {},
     "output_type": "execute_result"
    }
   ],
   "execution_count": 11
  },
  {
   "metadata": {},
   "cell_type": "markdown",
   "source": "The above graph depicts the daily closing price of the SP500 since January 1, 1970. There are optional tick marks that show the dates of release for the Beige Books then the date of the FOMC. The tick marks for the beige books are beige and when you hover over a tick it will show the key phrases associated with that beige book for each district. The tick marks for the FOMC are green or red, they are green if the five day average closing price after the FOMC date is higher than the five day average closing price prior to the FOMC, hovering over a green/red tick will show the percentage change in the market between the five days prior and five day after the FOMC.",
   "id": "5e5b1b9c59ebf961"
  }
 ],
 "metadata": {
  "kernelspec": {
   "display_name": "Python 3 (ipykernel)",
   "language": "python",
   "name": "python3"
  },
  "language_info": {
   "codemirror_mode": {
    "name": "ipython",
    "version": 3
   },
   "file_extension": ".py",
   "mimetype": "text/x-python",
   "name": "python",
   "nbconvert_exporter": "python",
   "pygments_lexer": "ipython3",
   "version": "3.11.9"
  }
 },
 "nbformat": 4,
 "nbformat_minor": 5
}
