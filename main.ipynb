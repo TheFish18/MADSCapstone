{
 "cells": [
  {
   "cell_type": "markdown",
   "id": "ee9190f5b04a81aa",
   "metadata": {},
   "source": [
    "# Predicting FOMC Impact on Market\n",
    "\n",
    "The Federal Opem Market Committee"
   ]
  },
  {
   "cell_type": "markdown",
   "id": "dde2bb24a7fdba4",
   "metadata": {},
   "source": [
    "![Bert_regressor_sin_bert](Data/Models/Second/bert_regressor_sin_bert.png \"Bert Regressor w/o Bert\")\n",
    "\n"
   ]
  },
  {
   "cell_type": "markdown",
   "id": "593b135f40404875",
   "metadata": {},
   "source": []
  },
  {
   "cell_type": "markdown",
   "id": "3d46a2d436532100",
   "metadata": {},
   "source": []
  },
  {
   "cell_type": "code",
   "id": "e48b357766767568",
   "metadata": {
    "ExecuteTime": {
     "end_time": "2024-08-04T14:09:15.292504Z",
     "start_time": "2024-08-04T14:09:15.264415Z"
    }
   },
   "source": [
    "from IPython.display import IFrame\n",
    "file_path = 'Data/Viz/sp500_fomc_bb_viz.html'\n",
    "IFrame(file_path, width='100%', height=600)"
   ],
   "outputs": [
    {
     "data": {
      "text/plain": [
       "<IPython.lib.display.IFrame at 0x13425ab50>"
      ],
      "text/html": [
       "\n",
       "        <iframe\n",
       "            width=\"100%\"\n",
       "            height=\"500\"\n",
       "            src=\"Data/Viz/sp500_fomc_bb_viz.html\"\n",
       "            frameborder=\"0\"\n",
       "            allowfullscreen\n",
       "            \n",
       "        ></iframe>\n",
       "        "
      ]
     },
     "execution_count": 11,
     "metadata": {},
     "output_type": "execute_result"
    }
   ],
   "execution_count": 11
  },
  {
   "metadata": {},
   "cell_type": "markdown",
   "source": "The above graph depicts the daily closing price of the SP500 since January 1, 1970. There are optional tick marks that show the dates of release for the Beige Books then the date of the FOMC. The tick marks for the beige books are beige and when you hover over a tick it will show the key phrases associated with that beige book for each district. The tick marks for the FOMC are green or red, they are green if the five day average closing price after the FOMC date is higher than the five day average closing price prior to the FOMC, hovering over a green/red tick will show the percentage change in the market between the five days prior and five day after the FOMC.",
   "id": "5e5b1b9c59ebf961"
  }
 ],
 "metadata": {
  "kernelspec": {
   "display_name": "Python 3 (ipykernel)",
   "language": "python",
   "name": "python3"
  },
  "language_info": {
   "codemirror_mode": {
    "name": "ipython",
    "version": 3
   },
   "file_extension": ".py",
   "mimetype": "text/x-python",
   "name": "python",
   "nbconvert_exporter": "python",
   "pygments_lexer": "ipython3",
   "version": "3.11.9"
  }
 },
 "nbformat": 4,
 "nbformat_minor": 5
}
